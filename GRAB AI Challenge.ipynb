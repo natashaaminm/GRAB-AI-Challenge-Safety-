{
 "cells": [
  {
   "cell_type": "code",
   "execution_count": null,
   "metadata": {},
   "outputs": [],
   "source": [
    "import pandas as pd\n",
    "import os\n",
    "import glob\n",
    "\n",
    "os.chdir('C:/Users/natas/Downloads/safety/safety/features/')\n",
    "extension = 'csv'\n",
    "all_filenames = [i for i in glob.glob('*.{}'.format(extension))]\n",
    "\n",
    "#combine all files in the list\n",
    "combined_csv_train = pd.concat([pd.read_csv(f) for f in all_filenames ])\n",
    "#export to csv\n",
    "combined_csv_train.to_csv( \"df.csv\", index=False, encoding='utf-8-sig')"
   ]
  },
  {
   "cell_type": "code",
   "execution_count": 19,
   "metadata": {},
   "outputs": [],
   "source": [
    "import pandas as pd\n",
    "import os\n",
    "import glob"
   ]
  },
  {
   "cell_type": "code",
   "execution_count": 20,
   "metadata": {},
   "outputs": [],
   "source": [
    "df_label = pd.read_csv(\"C:/Users/natas/Downloads/safety/safety/labels/part-00000-e9445087-aa0a-433b-a7f6-7f4c19d78ad6-c000.csv\")"
   ]
  },
  {
   "cell_type": "code",
   "execution_count": 21,
   "metadata": {},
   "outputs": [],
   "source": [
    "df= pd.read_csv('C:/Users/natas/Downloads/safety/safety/features/df.csv')"
   ]
  },
  {
   "cell_type": "code",
   "execution_count": 22,
   "metadata": {},
   "outputs": [],
   "source": [
    "df = pd.merge(df, df_label, on='bookingID')\n"
   ]
  },
  {
   "cell_type": "code",
   "execution_count": 23,
   "metadata": {},
   "outputs": [
    {
     "data": {
      "text/html": [
       "<div>\n",
       "<style scoped>\n",
       "    .dataframe tbody tr th:only-of-type {\n",
       "        vertical-align: middle;\n",
       "    }\n",
       "\n",
       "    .dataframe tbody tr th {\n",
       "        vertical-align: top;\n",
       "    }\n",
       "\n",
       "    .dataframe thead th {\n",
       "        text-align: right;\n",
       "    }\n",
       "</style>\n",
       "<table border=\"1\" class=\"dataframe\">\n",
       "  <thead>\n",
       "    <tr style=\"text-align: right;\">\n",
       "      <th></th>\n",
       "      <th>bookingID</th>\n",
       "      <th>Accuracy</th>\n",
       "      <th>Bearing</th>\n",
       "      <th>acceleration_x</th>\n",
       "      <th>acceleration_y</th>\n",
       "      <th>acceleration_z</th>\n",
       "      <th>gyro_x</th>\n",
       "      <th>gyro_y</th>\n",
       "      <th>gyro_z</th>\n",
       "      <th>second</th>\n",
       "      <th>Speed</th>\n",
       "      <th>label</th>\n",
       "    </tr>\n",
       "  </thead>\n",
       "  <tbody>\n",
       "    <tr>\n",
       "      <th>0</th>\n",
       "      <td>1202590843006</td>\n",
       "      <td>3.000</td>\n",
       "      <td>353.0</td>\n",
       "      <td>1.228867</td>\n",
       "      <td>8.900100</td>\n",
       "      <td>3.986968</td>\n",
       "      <td>0.008221</td>\n",
       "      <td>0.002269</td>\n",
       "      <td>-0.009966</td>\n",
       "      <td>1362.0</td>\n",
       "      <td>0.000000</td>\n",
       "      <td>1</td>\n",
       "    </tr>\n",
       "    <tr>\n",
       "      <th>1</th>\n",
       "      <td>1202590843006</td>\n",
       "      <td>3.033</td>\n",
       "      <td>77.0</td>\n",
       "      <td>1.137217</td>\n",
       "      <td>8.975278</td>\n",
       "      <td>3.981050</td>\n",
       "      <td>0.021118</td>\n",
       "      <td>-0.022515</td>\n",
       "      <td>0.024522</td>\n",
       "      <td>541.0</td>\n",
       "      <td>0.000000</td>\n",
       "      <td>1</td>\n",
       "    </tr>\n",
       "    <tr>\n",
       "      <th>2</th>\n",
       "      <td>1202590843006</td>\n",
       "      <td>6.173</td>\n",
       "      <td>283.0</td>\n",
       "      <td>1.522818</td>\n",
       "      <td>7.947064</td>\n",
       "      <td>5.075056</td>\n",
       "      <td>0.137567</td>\n",
       "      <td>-0.297055</td>\n",
       "      <td>-0.017418</td>\n",
       "      <td>154.0</td>\n",
       "      <td>2.863286</td>\n",
       "      <td>1</td>\n",
       "    </tr>\n",
       "    <tr>\n",
       "      <th>3</th>\n",
       "      <td>1202590843006</td>\n",
       "      <td>3.014</td>\n",
       "      <td>353.0</td>\n",
       "      <td>1.134775</td>\n",
       "      <td>8.932489</td>\n",
       "      <td>3.929421</td>\n",
       "      <td>-0.007959</td>\n",
       "      <td>-0.020543</td>\n",
       "      <td>-0.022986</td>\n",
       "      <td>1384.0</td>\n",
       "      <td>0.000000</td>\n",
       "      <td>1</td>\n",
       "    </tr>\n",
       "    <tr>\n",
       "      <th>4</th>\n",
       "      <td>1202590843006</td>\n",
       "      <td>5.209</td>\n",
       "      <td>340.0</td>\n",
       "      <td>0.858197</td>\n",
       "      <td>9.078037</td>\n",
       "      <td>2.944571</td>\n",
       "      <td>0.061924</td>\n",
       "      <td>0.015219</td>\n",
       "      <td>0.025517</td>\n",
       "      <td>1142.0</td>\n",
       "      <td>9.750134</td>\n",
       "      <td>1</td>\n",
       "    </tr>\n",
       "  </tbody>\n",
       "</table>\n",
       "</div>"
      ],
      "text/plain": [
       "       bookingID  Accuracy  Bearing  acceleration_x  acceleration_y  \\\n",
       "0  1202590843006     3.000    353.0        1.228867        8.900100   \n",
       "1  1202590843006     3.033     77.0        1.137217        8.975278   \n",
       "2  1202590843006     6.173    283.0        1.522818        7.947064   \n",
       "3  1202590843006     3.014    353.0        1.134775        8.932489   \n",
       "4  1202590843006     5.209    340.0        0.858197        9.078037   \n",
       "\n",
       "   acceleration_z    gyro_x    gyro_y    gyro_z  second     Speed  label  \n",
       "0        3.986968  0.008221  0.002269 -0.009966  1362.0  0.000000      1  \n",
       "1        3.981050  0.021118 -0.022515  0.024522   541.0  0.000000      1  \n",
       "2        5.075056  0.137567 -0.297055 -0.017418   154.0  2.863286      1  \n",
       "3        3.929421 -0.007959 -0.020543 -0.022986  1384.0  0.000000      1  \n",
       "4        2.944571  0.061924  0.015219  0.025517  1142.0  9.750134      1  "
      ]
     },
     "execution_count": 23,
     "metadata": {},
     "output_type": "execute_result"
    }
   ],
   "source": [
    "df.head()"
   ]
  },
  {
   "cell_type": "code",
   "execution_count": 24,
   "metadata": {},
   "outputs": [
    {
     "data": {
      "text/plain": [
       "(28867662, 12)"
      ]
     },
     "execution_count": 24,
     "metadata": {},
     "output_type": "execute_result"
    }
   ],
   "source": [
    "df.shape"
   ]
  },
  {
   "cell_type": "code",
   "execution_count": 25,
   "metadata": {},
   "outputs": [],
   "source": [
    "import numpy as np\n",
    "cols = ['bookingID','Accuracy','Bearing', 'acceleration_x', 'acceleration_y', 'acceleration_z',\n",
    "'gyro_x', 'gyro_y', 'gyro_z', 'second', 'Speed']\n",
    "df[cols] = df[cols].astype(np.int64)\n",
    "\n"
   ]
  },
  {
   "cell_type": "code",
   "execution_count": 26,
   "metadata": {},
   "outputs": [
    {
     "data": {
      "text/html": [
       "<div>\n",
       "<style scoped>\n",
       "    .dataframe tbody tr th:only-of-type {\n",
       "        vertical-align: middle;\n",
       "    }\n",
       "\n",
       "    .dataframe tbody tr th {\n",
       "        vertical-align: top;\n",
       "    }\n",
       "\n",
       "    .dataframe thead th {\n",
       "        text-align: right;\n",
       "    }\n",
       "</style>\n",
       "<table border=\"1\" class=\"dataframe\">\n",
       "  <thead>\n",
       "    <tr style=\"text-align: right;\">\n",
       "      <th></th>\n",
       "      <th>bookingID</th>\n",
       "      <th>Accuracy</th>\n",
       "      <th>Bearing</th>\n",
       "      <th>acceleration_x</th>\n",
       "      <th>acceleration_y</th>\n",
       "      <th>acceleration_z</th>\n",
       "      <th>gyro_x</th>\n",
       "      <th>gyro_y</th>\n",
       "      <th>gyro_z</th>\n",
       "      <th>second</th>\n",
       "      <th>Speed</th>\n",
       "      <th>label</th>\n",
       "    </tr>\n",
       "  </thead>\n",
       "  <tbody>\n",
       "    <tr>\n",
       "      <th>0</th>\n",
       "      <td>1202590843006</td>\n",
       "      <td>3</td>\n",
       "      <td>353</td>\n",
       "      <td>1</td>\n",
       "      <td>8</td>\n",
       "      <td>3</td>\n",
       "      <td>0</td>\n",
       "      <td>0</td>\n",
       "      <td>0</td>\n",
       "      <td>1362</td>\n",
       "      <td>0</td>\n",
       "      <td>1</td>\n",
       "    </tr>\n",
       "    <tr>\n",
       "      <th>1</th>\n",
       "      <td>1202590843006</td>\n",
       "      <td>3</td>\n",
       "      <td>77</td>\n",
       "      <td>1</td>\n",
       "      <td>8</td>\n",
       "      <td>3</td>\n",
       "      <td>0</td>\n",
       "      <td>0</td>\n",
       "      <td>0</td>\n",
       "      <td>541</td>\n",
       "      <td>0</td>\n",
       "      <td>1</td>\n",
       "    </tr>\n",
       "    <tr>\n",
       "      <th>2</th>\n",
       "      <td>1202590843006</td>\n",
       "      <td>6</td>\n",
       "      <td>283</td>\n",
       "      <td>1</td>\n",
       "      <td>7</td>\n",
       "      <td>5</td>\n",
       "      <td>0</td>\n",
       "      <td>0</td>\n",
       "      <td>0</td>\n",
       "      <td>154</td>\n",
       "      <td>2</td>\n",
       "      <td>1</td>\n",
       "    </tr>\n",
       "    <tr>\n",
       "      <th>3</th>\n",
       "      <td>1202590843006</td>\n",
       "      <td>3</td>\n",
       "      <td>353</td>\n",
       "      <td>1</td>\n",
       "      <td>8</td>\n",
       "      <td>3</td>\n",
       "      <td>0</td>\n",
       "      <td>0</td>\n",
       "      <td>0</td>\n",
       "      <td>1384</td>\n",
       "      <td>0</td>\n",
       "      <td>1</td>\n",
       "    </tr>\n",
       "    <tr>\n",
       "      <th>4</th>\n",
       "      <td>1202590843006</td>\n",
       "      <td>5</td>\n",
       "      <td>340</td>\n",
       "      <td>0</td>\n",
       "      <td>9</td>\n",
       "      <td>2</td>\n",
       "      <td>0</td>\n",
       "      <td>0</td>\n",
       "      <td>0</td>\n",
       "      <td>1142</td>\n",
       "      <td>9</td>\n",
       "      <td>1</td>\n",
       "    </tr>\n",
       "  </tbody>\n",
       "</table>\n",
       "</div>"
      ],
      "text/plain": [
       "       bookingID  Accuracy  Bearing  acceleration_x  acceleration_y  \\\n",
       "0  1202590843006         3      353               1               8   \n",
       "1  1202590843006         3       77               1               8   \n",
       "2  1202590843006         6      283               1               7   \n",
       "3  1202590843006         3      353               1               8   \n",
       "4  1202590843006         5      340               0               9   \n",
       "\n",
       "   acceleration_z  gyro_x  gyro_y  gyro_z  second  Speed  label  \n",
       "0               3       0       0       0    1362      0      1  \n",
       "1               3       0       0       0     541      0      1  \n",
       "2               5       0       0       0     154      2      1  \n",
       "3               3       0       0       0    1384      0      1  \n",
       "4               2       0       0       0    1142      9      1  "
      ]
     },
     "execution_count": 26,
     "metadata": {},
     "output_type": "execute_result"
    }
   ],
   "source": [
    "df.head()"
   ]
  },
  {
   "cell_type": "code",
   "execution_count": 27,
   "metadata": {},
   "outputs": [],
   "source": [
    "#Logic- Dangerous driving involves looking at acceleration and bearing data. If there is a high acceleration and high change in \n",
    "#bearing then you have a case of sharp turns at high speeds--> Dangerous\n",
    "\n",
    " \n",
    "\n",
    "df['accelerationx2']= ((df['acceleration_x']**2) + (df['acceleration_y']**2) + (df['acceleration_z']**2))\n",
    "\n",
    "df['resultant_acc'] = df['accelerationx2']**0.5 \n",
    "\n",
    "df['MA_acc'] = df.rolling(window=2)['resultant_acc'].mean()\n",
    "\n",
    "df['MA_acc_max']= df.groupby('bookingID')['MA_acc'].transform('max')\n",
    "df['MA_acc_mean']= df.groupby('bookingID')['MA_acc'].transform('mean')\n",
    "df['MA_acc_skew']= abs(df.groupby('bookingID')['MA_acc'].transform('skew'))\n",
    "df['MA_acc_var']= df.groupby('bookingID')['MA_acc'].transform('var')\n",
    "\n",
    "\n",
    "#Check if speed > speed limit. Max speed limit in Singapore is 80-90 km/h ` 25m/s\n",
    "df['Speedmax'] = df.groupby('bookingID')['Speed'].transform('max')\n",
    "df['Speedabovelimit'] = df['Speedmax'].apply(lambda x: 1 if x >25 else 0)\n",
    "\n",
    "#change in bearing\n",
    "\n",
    "df['bearing_chg'] = df.rolling(window=2)['Bearing'].mean() #assumption all bearings are vs true north measure clockwise\"\n",
    "df['bearing_chg_max']= df.groupby('bookingID')['bearing_chg'].transform('max')\n",
    "df['bearing_chg_var']= df.groupby('bookingID')['bearing_chg'].transform('var')\n",
    "\n",
    "\n",
    "#combination of acceleration and bearing - rudimenatary feature creation. looking for high acceleration and high bearing\n",
    "df['bearing_acc_comb1'] = df['MA_acc_max'] +  df['bearing_chg_max']\n",
    "df['bearing_acc_comb2'] = df['MA_acc_var'] +  df['bearing_chg_var']"
   ]
  },
  {
   "cell_type": "code",
   "execution_count": 28,
   "metadata": {},
   "outputs": [
    {
     "data": {
      "text/plain": [
       "Index(['bookingID', 'Accuracy', 'Bearing', 'acceleration_x', 'acceleration_y',\n",
       "       'acceleration_z', 'gyro_x', 'gyro_y', 'gyro_z', 'second', 'Speed',\n",
       "       'label', 'accelerationx2', 'resultant_acc', 'MA_acc', 'MA_acc_max',\n",
       "       'MA_acc_mean', 'MA_acc_skew', 'MA_acc_var', 'Speedmax',\n",
       "       'Speedabovelimit', 'bearing_chg', 'bearing_chg_max', 'bearing_chg_var',\n",
       "       'bearing_acc_comb1', 'bearing_acc_comb2'],\n",
       "      dtype='object')"
      ]
     },
     "execution_count": 28,
     "metadata": {},
     "output_type": "execute_result"
    }
   ],
   "source": [
    "df.columns"
   ]
  },
  {
   "cell_type": "code",
   "execution_count": 29,
   "metadata": {},
   "outputs": [
    {
     "data": {
      "text/html": [
       "<div>\n",
       "<style scoped>\n",
       "    .dataframe tbody tr th:only-of-type {\n",
       "        vertical-align: middle;\n",
       "    }\n",
       "\n",
       "    .dataframe tbody tr th {\n",
       "        vertical-align: top;\n",
       "    }\n",
       "\n",
       "    .dataframe thead th {\n",
       "        text-align: right;\n",
       "    }\n",
       "</style>\n",
       "<table border=\"1\" class=\"dataframe\">\n",
       "  <thead>\n",
       "    <tr style=\"text-align: right;\">\n",
       "      <th></th>\n",
       "      <th>bookingID</th>\n",
       "      <th>Accuracy</th>\n",
       "      <th>Bearing</th>\n",
       "      <th>acceleration_x</th>\n",
       "      <th>acceleration_y</th>\n",
       "      <th>acceleration_z</th>\n",
       "      <th>gyro_x</th>\n",
       "      <th>gyro_y</th>\n",
       "      <th>gyro_z</th>\n",
       "      <th>second</th>\n",
       "      <th>...</th>\n",
       "      <th>MA_acc_mean</th>\n",
       "      <th>MA_acc_skew</th>\n",
       "      <th>MA_acc_var</th>\n",
       "      <th>Speedmax</th>\n",
       "      <th>Speedabovelimit</th>\n",
       "      <th>bearing_chg</th>\n",
       "      <th>bearing_chg_max</th>\n",
       "      <th>bearing_chg_var</th>\n",
       "      <th>bearing_acc_comb1</th>\n",
       "      <th>bearing_acc_comb2</th>\n",
       "    </tr>\n",
       "  </thead>\n",
       "  <tbody>\n",
       "    <tr>\n",
       "      <th>0</th>\n",
       "      <td>1202590843006</td>\n",
       "      <td>3</td>\n",
       "      <td>353</td>\n",
       "      <td>1</td>\n",
       "      <td>8</td>\n",
       "      <td>3</td>\n",
       "      <td>0</td>\n",
       "      <td>0</td>\n",
       "      <td>0</td>\n",
       "      <td>1362</td>\n",
       "      <td>...</td>\n",
       "      <td>9.295276</td>\n",
       "      <td>0.201328</td>\n",
       "      <td>0.217549</td>\n",
       "      <td>18</td>\n",
       "      <td>0</td>\n",
       "      <td>NaN</td>\n",
       "      <td>358.5</td>\n",
       "      <td>10271.128953</td>\n",
       "      <td>369.774303</td>\n",
       "      <td>10271.346502</td>\n",
       "    </tr>\n",
       "    <tr>\n",
       "      <th>1</th>\n",
       "      <td>1202590843006</td>\n",
       "      <td>3</td>\n",
       "      <td>77</td>\n",
       "      <td>1</td>\n",
       "      <td>8</td>\n",
       "      <td>3</td>\n",
       "      <td>0</td>\n",
       "      <td>0</td>\n",
       "      <td>0</td>\n",
       "      <td>541</td>\n",
       "      <td>...</td>\n",
       "      <td>9.295276</td>\n",
       "      <td>0.201328</td>\n",
       "      <td>0.217549</td>\n",
       "      <td>18</td>\n",
       "      <td>0</td>\n",
       "      <td>215.0</td>\n",
       "      <td>358.5</td>\n",
       "      <td>10271.128953</td>\n",
       "      <td>369.774303</td>\n",
       "      <td>10271.346502</td>\n",
       "    </tr>\n",
       "    <tr>\n",
       "      <th>2</th>\n",
       "      <td>1202590843006</td>\n",
       "      <td>6</td>\n",
       "      <td>283</td>\n",
       "      <td>1</td>\n",
       "      <td>7</td>\n",
       "      <td>5</td>\n",
       "      <td>0</td>\n",
       "      <td>0</td>\n",
       "      <td>0</td>\n",
       "      <td>154</td>\n",
       "      <td>...</td>\n",
       "      <td>9.295276</td>\n",
       "      <td>0.201328</td>\n",
       "      <td>0.217549</td>\n",
       "      <td>18</td>\n",
       "      <td>0</td>\n",
       "      <td>180.0</td>\n",
       "      <td>358.5</td>\n",
       "      <td>10271.128953</td>\n",
       "      <td>369.774303</td>\n",
       "      <td>10271.346502</td>\n",
       "    </tr>\n",
       "    <tr>\n",
       "      <th>3</th>\n",
       "      <td>1202590843006</td>\n",
       "      <td>3</td>\n",
       "      <td>353</td>\n",
       "      <td>1</td>\n",
       "      <td>8</td>\n",
       "      <td>3</td>\n",
       "      <td>0</td>\n",
       "      <td>0</td>\n",
       "      <td>0</td>\n",
       "      <td>1384</td>\n",
       "      <td>...</td>\n",
       "      <td>9.295276</td>\n",
       "      <td>0.201328</td>\n",
       "      <td>0.217549</td>\n",
       "      <td>18</td>\n",
       "      <td>0</td>\n",
       "      <td>318.0</td>\n",
       "      <td>358.5</td>\n",
       "      <td>10271.128953</td>\n",
       "      <td>369.774303</td>\n",
       "      <td>10271.346502</td>\n",
       "    </tr>\n",
       "    <tr>\n",
       "      <th>4</th>\n",
       "      <td>1202590843006</td>\n",
       "      <td>5</td>\n",
       "      <td>340</td>\n",
       "      <td>0</td>\n",
       "      <td>9</td>\n",
       "      <td>2</td>\n",
       "      <td>0</td>\n",
       "      <td>0</td>\n",
       "      <td>0</td>\n",
       "      <td>1142</td>\n",
       "      <td>...</td>\n",
       "      <td>9.295276</td>\n",
       "      <td>0.201328</td>\n",
       "      <td>0.217549</td>\n",
       "      <td>18</td>\n",
       "      <td>0</td>\n",
       "      <td>346.5</td>\n",
       "      <td>358.5</td>\n",
       "      <td>10271.128953</td>\n",
       "      <td>369.774303</td>\n",
       "      <td>10271.346502</td>\n",
       "    </tr>\n",
       "  </tbody>\n",
       "</table>\n",
       "<p>5 rows × 26 columns</p>\n",
       "</div>"
      ],
      "text/plain": [
       "       bookingID  Accuracy  Bearing  acceleration_x  acceleration_y  \\\n",
       "0  1202590843006         3      353               1               8   \n",
       "1  1202590843006         3       77               1               8   \n",
       "2  1202590843006         6      283               1               7   \n",
       "3  1202590843006         3      353               1               8   \n",
       "4  1202590843006         5      340               0               9   \n",
       "\n",
       "   acceleration_z  gyro_x  gyro_y  gyro_z  second        ...          \\\n",
       "0               3       0       0       0    1362        ...           \n",
       "1               3       0       0       0     541        ...           \n",
       "2               5       0       0       0     154        ...           \n",
       "3               3       0       0       0    1384        ...           \n",
       "4               2       0       0       0    1142        ...           \n",
       "\n",
       "   MA_acc_mean  MA_acc_skew  MA_acc_var  Speedmax  Speedabovelimit  \\\n",
       "0     9.295276     0.201328    0.217549        18                0   \n",
       "1     9.295276     0.201328    0.217549        18                0   \n",
       "2     9.295276     0.201328    0.217549        18                0   \n",
       "3     9.295276     0.201328    0.217549        18                0   \n",
       "4     9.295276     0.201328    0.217549        18                0   \n",
       "\n",
       "   bearing_chg  bearing_chg_max  bearing_chg_var  bearing_acc_comb1  \\\n",
       "0          NaN            358.5     10271.128953         369.774303   \n",
       "1        215.0            358.5     10271.128953         369.774303   \n",
       "2        180.0            358.5     10271.128953         369.774303   \n",
       "3        318.0            358.5     10271.128953         369.774303   \n",
       "4        346.5            358.5     10271.128953         369.774303   \n",
       "\n",
       "   bearing_acc_comb2  \n",
       "0       10271.346502  \n",
       "1       10271.346502  \n",
       "2       10271.346502  \n",
       "3       10271.346502  \n",
       "4       10271.346502  \n",
       "\n",
       "[5 rows x 26 columns]"
      ]
     },
     "execution_count": 29,
     "metadata": {},
     "output_type": "execute_result"
    }
   ],
   "source": [
    "df.head()"
   ]
  },
  {
   "cell_type": "code",
   "execution_count": 30,
   "metadata": {},
   "outputs": [],
   "source": [
    "df = df.drop_duplicates(subset='bookingID', keep='last')"
   ]
  },
  {
   "cell_type": "code",
   "execution_count": 31,
   "metadata": {},
   "outputs": [
    {
     "data": {
      "text/html": [
       "<div>\n",
       "<style scoped>\n",
       "    .dataframe tbody tr th:only-of-type {\n",
       "        vertical-align: middle;\n",
       "    }\n",
       "\n",
       "    .dataframe tbody tr th {\n",
       "        vertical-align: top;\n",
       "    }\n",
       "\n",
       "    .dataframe thead th {\n",
       "        text-align: right;\n",
       "    }\n",
       "</style>\n",
       "<table border=\"1\" class=\"dataframe\">\n",
       "  <thead>\n",
       "    <tr style=\"text-align: right;\">\n",
       "      <th></th>\n",
       "      <th>bookingID</th>\n",
       "      <th>Accuracy</th>\n",
       "      <th>Bearing</th>\n",
       "      <th>acceleration_x</th>\n",
       "      <th>acceleration_y</th>\n",
       "      <th>acceleration_z</th>\n",
       "      <th>gyro_x</th>\n",
       "      <th>gyro_y</th>\n",
       "      <th>gyro_z</th>\n",
       "      <th>second</th>\n",
       "      <th>...</th>\n",
       "      <th>MA_acc_mean</th>\n",
       "      <th>MA_acc_skew</th>\n",
       "      <th>MA_acc_var</th>\n",
       "      <th>Speedmax</th>\n",
       "      <th>Speedabovelimit</th>\n",
       "      <th>bearing_chg</th>\n",
       "      <th>bearing_chg_max</th>\n",
       "      <th>bearing_chg_var</th>\n",
       "      <th>bearing_acc_comb1</th>\n",
       "      <th>bearing_acc_comb2</th>\n",
       "    </tr>\n",
       "  </thead>\n",
       "  <tbody>\n",
       "    <tr>\n",
       "      <th>2040</th>\n",
       "      <td>1202590843006</td>\n",
       "      <td>4</td>\n",
       "      <td>72</td>\n",
       "      <td>1</td>\n",
       "      <td>9</td>\n",
       "      <td>3</td>\n",
       "      <td>0</td>\n",
       "      <td>0</td>\n",
       "      <td>0</td>\n",
       "      <td>1220</td>\n",
       "      <td>...</td>\n",
       "      <td>9.295276</td>\n",
       "      <td>0.201328</td>\n",
       "      <td>0.217549</td>\n",
       "      <td>18</td>\n",
       "      <td>0</td>\n",
       "      <td>202.5</td>\n",
       "      <td>358.5</td>\n",
       "      <td>10271.128953</td>\n",
       "      <td>369.774303</td>\n",
       "      <td>10271.346502</td>\n",
       "    </tr>\n",
       "    <tr>\n",
       "      <th>4895</th>\n",
       "      <td>274877907034</td>\n",
       "      <td>3</td>\n",
       "      <td>74</td>\n",
       "      <td>0</td>\n",
       "      <td>9</td>\n",
       "      <td>3</td>\n",
       "      <td>0</td>\n",
       "      <td>0</td>\n",
       "      <td>0</td>\n",
       "      <td>1233</td>\n",
       "      <td>...</td>\n",
       "      <td>9.215379</td>\n",
       "      <td>0.302773</td>\n",
       "      <td>0.139033</td>\n",
       "      <td>28</td>\n",
       "      <td>1</td>\n",
       "      <td>71.5</td>\n",
       "      <td>330.0</td>\n",
       "      <td>2697.204936</td>\n",
       "      <td>340.805594</td>\n",
       "      <td>2697.343969</td>\n",
       "    </tr>\n",
       "    <tr>\n",
       "      <th>7917</th>\n",
       "      <td>884763263056</td>\n",
       "      <td>3</td>\n",
       "      <td>184</td>\n",
       "      <td>0</td>\n",
       "      <td>9</td>\n",
       "      <td>2</td>\n",
       "      <td>0</td>\n",
       "      <td>0</td>\n",
       "      <td>0</td>\n",
       "      <td>1179</td>\n",
       "      <td>...</td>\n",
       "      <td>9.258795</td>\n",
       "      <td>0.221676</td>\n",
       "      <td>0.176319</td>\n",
       "      <td>26</td>\n",
       "      <td>1</td>\n",
       "      <td>135.5</td>\n",
       "      <td>312.5</td>\n",
       "      <td>3707.506068</td>\n",
       "      <td>324.399755</td>\n",
       "      <td>3707.682387</td>\n",
       "    </tr>\n",
       "    <tr>\n",
       "      <th>9773</th>\n",
       "      <td>1073741824054</td>\n",
       "      <td>3</td>\n",
       "      <td>205</td>\n",
       "      <td>2</td>\n",
       "      <td>9</td>\n",
       "      <td>-1</td>\n",
       "      <td>0</td>\n",
       "      <td>0</td>\n",
       "      <td>0</td>\n",
       "      <td>470</td>\n",
       "      <td>...</td>\n",
       "      <td>9.261271</td>\n",
       "      <td>1.406496</td>\n",
       "      <td>0.282635</td>\n",
       "      <td>19</td>\n",
       "      <td>0</td>\n",
       "      <td>150.0</td>\n",
       "      <td>308.0</td>\n",
       "      <td>2498.619694</td>\n",
       "      <td>321.161277</td>\n",
       "      <td>2498.902329</td>\n",
       "    </tr>\n",
       "    <tr>\n",
       "      <th>11391</th>\n",
       "      <td>1056561954943</td>\n",
       "      <td>3</td>\n",
       "      <td>24</td>\n",
       "      <td>0</td>\n",
       "      <td>9</td>\n",
       "      <td>0</td>\n",
       "      <td>0</td>\n",
       "      <td>0</td>\n",
       "      <td>0</td>\n",
       "      <td>840</td>\n",
       "      <td>...</td>\n",
       "      <td>9.321080</td>\n",
       "      <td>0.210218</td>\n",
       "      <td>0.473171</td>\n",
       "      <td>24</td>\n",
       "      <td>0</td>\n",
       "      <td>20.0</td>\n",
       "      <td>358.5</td>\n",
       "      <td>6662.252559</td>\n",
       "      <td>370.464194</td>\n",
       "      <td>6662.725730</td>\n",
       "    </tr>\n",
       "  </tbody>\n",
       "</table>\n",
       "<p>5 rows × 26 columns</p>\n",
       "</div>"
      ],
      "text/plain": [
       "           bookingID  Accuracy  Bearing  acceleration_x  acceleration_y  \\\n",
       "2040   1202590843006         4       72               1               9   \n",
       "4895    274877907034         3       74               0               9   \n",
       "7917    884763263056         3      184               0               9   \n",
       "9773   1073741824054         3      205               2               9   \n",
       "11391  1056561954943         3       24               0               9   \n",
       "\n",
       "       acceleration_z  gyro_x  gyro_y  gyro_z  second        ...          \\\n",
       "2040                3       0       0       0    1220        ...           \n",
       "4895                3       0       0       0    1233        ...           \n",
       "7917                2       0       0       0    1179        ...           \n",
       "9773               -1       0       0       0     470        ...           \n",
       "11391               0       0       0       0     840        ...           \n",
       "\n",
       "       MA_acc_mean  MA_acc_skew  MA_acc_var  Speedmax  Speedabovelimit  \\\n",
       "2040      9.295276     0.201328    0.217549        18                0   \n",
       "4895      9.215379     0.302773    0.139033        28                1   \n",
       "7917      9.258795     0.221676    0.176319        26                1   \n",
       "9773      9.261271     1.406496    0.282635        19                0   \n",
       "11391     9.321080     0.210218    0.473171        24                0   \n",
       "\n",
       "       bearing_chg  bearing_chg_max  bearing_chg_var  bearing_acc_comb1  \\\n",
       "2040         202.5            358.5     10271.128953         369.774303   \n",
       "4895          71.5            330.0      2697.204936         340.805594   \n",
       "7917         135.5            312.5      3707.506068         324.399755   \n",
       "9773         150.0            308.0      2498.619694         321.161277   \n",
       "11391         20.0            358.5      6662.252559         370.464194   \n",
       "\n",
       "       bearing_acc_comb2  \n",
       "2040        10271.346502  \n",
       "4895         2697.343969  \n",
       "7917         3707.682387  \n",
       "9773         2498.902329  \n",
       "11391        6662.725730  \n",
       "\n",
       "[5 rows x 26 columns]"
      ]
     },
     "execution_count": 31,
     "metadata": {},
     "output_type": "execute_result"
    }
   ],
   "source": [
    "df.head()"
   ]
  },
  {
   "cell_type": "code",
   "execution_count": 32,
   "metadata": {},
   "outputs": [
    {
     "data": {
      "text/plain": [
       "False"
      ]
     },
     "execution_count": 32,
     "metadata": {},
     "output_type": "execute_result"
    }
   ],
   "source": [
    "df.isnull().values.any() #there shouldnt be any null values"
   ]
  },
  {
   "cell_type": "code",
   "execution_count": 33,
   "metadata": {},
   "outputs": [],
   "source": [
    "from sklearn.preprocessing import label_binarize\n",
    "\n",
    "df['label']= label_binarize(df['label'], classes=[0,1])"
   ]
  },
  {
   "cell_type": "code",
   "execution_count": 34,
   "metadata": {},
   "outputs": [
    {
     "data": {
      "text/plain": [
       "(20000, 26)"
      ]
     },
     "execution_count": 34,
     "metadata": {},
     "output_type": "execute_result"
    }
   ],
   "source": [
    "df.shape"
   ]
  },
  {
   "cell_type": "code",
   "execution_count": 35,
   "metadata": {},
   "outputs": [],
   "source": [
    "df = df.drop(['bookingID','Accuracy', 'Bearing', 'acceleration_x', 'acceleration_y',\n",
    "       'acceleration_z', 'gyro_x', 'gyro_y', 'gyro_z', 'second', 'Speed','Speedmax','accelerationx2','MA_acc','resultant_acc'], axis=1)\n"
   ]
  },
  {
   "cell_type": "code",
   "execution_count": 37,
   "metadata": {},
   "outputs": [],
   "source": [
    "df = df.reindex(np.random.permutation(df.index))"
   ]
  },
  {
   "cell_type": "code",
   "execution_count": 38,
   "metadata": {},
   "outputs": [
    {
     "data": {
      "text/plain": [
       "Index(['label', 'MA_acc_max', 'MA_acc_mean', 'MA_acc_skew', 'MA_acc_var',\n",
       "       'Speedabovelimit', 'bearing_chg', 'bearing_chg_max', 'bearing_chg_var',\n",
       "       'bearing_acc_comb1', 'bearing_acc_comb2'],\n",
       "      dtype='object')"
      ]
     },
     "execution_count": 38,
     "metadata": {},
     "output_type": "execute_result"
    }
   ],
   "source": [
    "df.columns"
   ]
  },
  {
   "cell_type": "code",
   "execution_count": 39,
   "metadata": {},
   "outputs": [
    {
     "data": {
      "text/html": [
       "<div>\n",
       "<style scoped>\n",
       "    .dataframe tbody tr th:only-of-type {\n",
       "        vertical-align: middle;\n",
       "    }\n",
       "\n",
       "    .dataframe tbody tr th {\n",
       "        vertical-align: top;\n",
       "    }\n",
       "\n",
       "    .dataframe thead th {\n",
       "        text-align: right;\n",
       "    }\n",
       "</style>\n",
       "<table border=\"1\" class=\"dataframe\">\n",
       "  <thead>\n",
       "    <tr style=\"text-align: right;\">\n",
       "      <th></th>\n",
       "      <th>label</th>\n",
       "      <th>MA_acc_max</th>\n",
       "      <th>MA_acc_mean</th>\n",
       "      <th>MA_acc_skew</th>\n",
       "      <th>MA_acc_var</th>\n",
       "      <th>Speedabovelimit</th>\n",
       "      <th>bearing_chg</th>\n",
       "      <th>bearing_chg_max</th>\n",
       "      <th>bearing_chg_var</th>\n",
       "      <th>bearing_acc_comb1</th>\n",
       "      <th>bearing_acc_comb2</th>\n",
       "    </tr>\n",
       "  </thead>\n",
       "  <tbody>\n",
       "    <tr>\n",
       "      <th>10578376</th>\n",
       "      <td>0</td>\n",
       "      <td>11.226753</td>\n",
       "      <td>9.047542</td>\n",
       "      <td>0.383706</td>\n",
       "      <td>0.378044</td>\n",
       "      <td>0</td>\n",
       "      <td>201.0</td>\n",
       "      <td>309.5</td>\n",
       "      <td>2132.966905</td>\n",
       "      <td>320.726753</td>\n",
       "      <td>2133.344948</td>\n",
       "    </tr>\n",
       "    <tr>\n",
       "      <th>27429343</th>\n",
       "      <td>0</td>\n",
       "      <td>11.758502</td>\n",
       "      <td>9.317530</td>\n",
       "      <td>0.332302</td>\n",
       "      <td>0.337709</td>\n",
       "      <td>0</td>\n",
       "      <td>163.5</td>\n",
       "      <td>354.0</td>\n",
       "      <td>4500.083705</td>\n",
       "      <td>365.758502</td>\n",
       "      <td>4500.421414</td>\n",
       "    </tr>\n",
       "    <tr>\n",
       "      <th>8571612</th>\n",
       "      <td>0</td>\n",
       "      <td>10.319173</td>\n",
       "      <td>9.283645</td>\n",
       "      <td>0.834295</td>\n",
       "      <td>0.072093</td>\n",
       "      <td>0</td>\n",
       "      <td>183.5</td>\n",
       "      <td>356.5</td>\n",
       "      <td>9757.640704</td>\n",
       "      <td>366.819173</td>\n",
       "      <td>9757.712797</td>\n",
       "    </tr>\n",
       "    <tr>\n",
       "      <th>6292236</th>\n",
       "      <td>0</td>\n",
       "      <td>12.059604</td>\n",
       "      <td>9.259639</td>\n",
       "      <td>0.050126</td>\n",
       "      <td>0.249534</td>\n",
       "      <td>0</td>\n",
       "      <td>248.0</td>\n",
       "      <td>339.0</td>\n",
       "      <td>2680.826685</td>\n",
       "      <td>351.059604</td>\n",
       "      <td>2681.076219</td>\n",
       "    </tr>\n",
       "    <tr>\n",
       "      <th>24493440</th>\n",
       "      <td>0</td>\n",
       "      <td>10.832639</td>\n",
       "      <td>8.882139</td>\n",
       "      <td>0.001759</td>\n",
       "      <td>0.275757</td>\n",
       "      <td>1</td>\n",
       "      <td>278.0</td>\n",
       "      <td>319.5</td>\n",
       "      <td>5407.064261</td>\n",
       "      <td>330.332639</td>\n",
       "      <td>5407.340018</td>\n",
       "    </tr>\n",
       "  </tbody>\n",
       "</table>\n",
       "</div>"
      ],
      "text/plain": [
       "          label  MA_acc_max  MA_acc_mean  MA_acc_skew  MA_acc_var  \\\n",
       "10578376      0   11.226753     9.047542     0.383706    0.378044   \n",
       "27429343      0   11.758502     9.317530     0.332302    0.337709   \n",
       "8571612       0   10.319173     9.283645     0.834295    0.072093   \n",
       "6292236       0   12.059604     9.259639     0.050126    0.249534   \n",
       "24493440      0   10.832639     8.882139     0.001759    0.275757   \n",
       "\n",
       "          Speedabovelimit  bearing_chg  bearing_chg_max  bearing_chg_var  \\\n",
       "10578376                0        201.0            309.5      2132.966905   \n",
       "27429343                0        163.5            354.0      4500.083705   \n",
       "8571612                 0        183.5            356.5      9757.640704   \n",
       "6292236                 0        248.0            339.0      2680.826685   \n",
       "24493440                1        278.0            319.5      5407.064261   \n",
       "\n",
       "          bearing_acc_comb1  bearing_acc_comb2  \n",
       "10578376         320.726753        2133.344948  \n",
       "27429343         365.758502        4500.421414  \n",
       "8571612          366.819173        9757.712797  \n",
       "6292236          351.059604        2681.076219  \n",
       "24493440         330.332639        5407.340018  "
      ]
     },
     "execution_count": 39,
     "metadata": {},
     "output_type": "execute_result"
    }
   ],
   "source": [
    "df.head()"
   ]
  },
  {
   "cell_type": "code",
   "execution_count": 40,
   "metadata": {},
   "outputs": [
    {
     "data": {
      "text/plain": [
       "<matplotlib.axes._subplots.AxesSubplot at 0x1b46f86f3c8>"
      ]
     },
     "execution_count": 40,
     "metadata": {},
     "output_type": "execute_result"
    }
   ],
   "source": [
    "import seaborn as sns\n",
    "import numpy as np\n",
    "\n",
    "corr = df.corr()\n",
    "sns.heatmap(corr)"
   ]
  },
  {
   "cell_type": "code",
   "execution_count": 41,
   "metadata": {},
   "outputs": [],
   "source": [
    "from sklearn.model_selection import train_test_split\n",
    "import numpy as np \n",
    "labels = df.label\n",
    "features = df.drop('label', axis=1)\n"
   ]
  },
  {
   "cell_type": "code",
   "execution_count": 42,
   "metadata": {},
   "outputs": [],
   "source": [
    "# split data into train and test sets\n",
    "seed = 7\n",
    "test_size = 0.2\n",
    "X_train, X_test, y_train, y_test = train_test_split(features, labels, test_size=test_size, random_state=seed)"
   ]
  },
  {
   "cell_type": "code",
   "execution_count": 43,
   "metadata": {},
   "outputs": [
    {
     "name": "stdout",
     "output_type": "stream",
     "text": [
      "X_train Shape: (16000, 10)\n",
      "y_train Shape: (16000,)\n",
      "X_test Shape: (4000, 10)\n",
      "y_test Labels Shape: (4000,)\n"
     ]
    }
   ],
   "source": [
    "print('X_train Shape:', X_train.shape)\n",
    "print('y_train Shape:', y_train.shape)\n",
    "print('X_test Shape:', X_test.shape)\n",
    "print('y_test Labels Shape:', y_test.shape)"
   ]
  },
  {
   "cell_type": "code",
   "execution_count": 54,
   "metadata": {},
   "outputs": [],
   "source": [
    "from imblearn.over_sampling import SMOTE\n",
    "smt = SMOTE()\n",
    "X_train, y_train = smt.fit_sample(X_train, y_train)"
   ]
  },
  {
   "cell_type": "code",
   "execution_count": 55,
   "metadata": {},
   "outputs": [
    {
     "data": {
      "text/plain": [
       "array([12020, 12020], dtype=int64)"
      ]
     },
     "execution_count": 55,
     "metadata": {},
     "output_type": "execute_result"
    }
   ],
   "source": [
    "np.bincount(y_train)"
   ]
  },
  {
   "cell_type": "code",
   "execution_count": 56,
   "metadata": {},
   "outputs": [],
   "source": [
    "# Import the model we are using\n",
    "from sklearn.ensemble import RandomForestClassifier\n",
    "# Instantiate model with 1000 decision trees\n",
    "rf = RandomForestClassifier(n_estimators = 1000)\n",
    "# Train the model on training data\n",
    "rf.fit(X_train, y_train);"
   ]
  },
  {
   "cell_type": "code",
   "execution_count": 57,
   "metadata": {},
   "outputs": [
    {
     "data": {
      "text/plain": [
       "0.5398909089344742"
      ]
     },
     "execution_count": 57,
     "metadata": {},
     "output_type": "execute_result"
    }
   ],
   "source": [
    "from sklearn import metrics\n",
    "from sklearn.metrics import roc_curve, auc\n",
    "y_pred_class = rf.predict(X_test)\n",
    "y_pred_prob = rf.predict_proba(X_test)[:, 1]\n",
    "y_pred_prob\n",
    "metrics.roc_auc_score(y_test, y_pred_class)"
   ]
  },
  {
   "cell_type": "code",
   "execution_count": 47,
   "metadata": {},
   "outputs": [
    {
     "name": "stdout",
     "output_type": "stream",
     "text": [
      "Parameters currently in use:\n",
      "\n",
      "{'bootstrap': True,\n",
      " 'class_weight': None,\n",
      " 'criterion': 'gini',\n",
      " 'max_depth': None,\n",
      " 'max_features': 'auto',\n",
      " 'max_leaf_nodes': None,\n",
      " 'min_impurity_decrease': 0.0,\n",
      " 'min_impurity_split': None,\n",
      " 'min_samples_leaf': 1,\n",
      " 'min_samples_split': 2,\n",
      " 'min_weight_fraction_leaf': 0.0,\n",
      " 'n_estimators': 1000,\n",
      " 'n_jobs': None,\n",
      " 'oob_score': False,\n",
      " 'random_state': None,\n",
      " 'verbose': 0,\n",
      " 'warm_start': False}\n"
     ]
    }
   ],
   "source": [
    "from pprint import pprint\n",
    "print('Parameters currently in use:\\n')\n",
    "pprint(rf.get_params())"
   ]
  },
  {
   "cell_type": "code",
   "execution_count": 48,
   "metadata": {},
   "outputs": [
    {
     "name": "stdout",
     "output_type": "stream",
     "text": [
      "{'bootstrap': [True, False],\n",
      " 'max_depth': [10, 20, 30, 40, 50, 60, 70, 80, 90, 100, 110, None],\n",
      " 'max_features': ['auto', 'sqrt'],\n",
      " 'min_samples_leaf': [1, 2, 4],\n",
      " 'min_samples_split': [2, 5, 10],\n",
      " 'n_estimators': [200, 400, 600, 800, 1000, 1200, 1400, 1600, 1800, 2000]}\n"
     ]
    }
   ],
   "source": [
    "#Hyperparameter tuning for random forest\n",
    "from sklearn.model_selection import RandomizedSearchCV\n",
    "# Number of trees in random forest\n",
    "n_estimators = [int(x) for x in np.linspace(start = 200, stop = 2000, num = 10)]\n",
    "# Number of features to consider at every split\n",
    "max_features = ['auto', 'sqrt']\n",
    "# Maximum number of levels in tree\n",
    "max_depth = [int(x) for x in np.linspace(10, 110, num = 11)]\n",
    "max_depth.append(None)\n",
    "# Minimum number of samples required to split a node\n",
    "min_samples_split = [2, 5, 10]\n",
    "# Minimum number of samples required at each leaf node\n",
    "min_samples_leaf = [1, 2, 4]\n",
    "# Method of selecting samples for training each tree\n",
    "bootstrap = [True, False]\n",
    "# Create the random grid\n",
    "random_grid = {'n_estimators': n_estimators,\n",
    "               'max_features': max_features,\n",
    "               'max_depth': max_depth,\n",
    "               'min_samples_split': min_samples_split,\n",
    "               'min_samples_leaf': min_samples_leaf,\n",
    "               'bootstrap': bootstrap}\n",
    "pprint(random_grid)\n"
   ]
  },
  {
   "cell_type": "code",
   "execution_count": 47,
   "metadata": {},
   "outputs": [
    {
     "name": "stdout",
     "output_type": "stream",
     "text": [
      "Fitting 3 folds for each of 100 candidates, totalling 300 fits\n"
     ]
    },
    {
     "name": "stderr",
     "output_type": "stream",
     "text": [
      "[Parallel(n_jobs=-1)]: Using backend LokyBackend with 4 concurrent workers.\n",
      "[Parallel(n_jobs=-1)]: Done  33 tasks      | elapsed: 27.5min\n",
      "[Parallel(n_jobs=-1)]: Done 154 tasks      | elapsed: 141.9min\n",
      "[Parallel(n_jobs=-1)]: Done 300 out of 300 | elapsed: 223.5min finished\n"
     ]
    },
    {
     "data": {
      "text/plain": [
       "RandomizedSearchCV(cv=3, error_score='raise-deprecating',\n",
       "          estimator=RandomForestClassifier(bootstrap=True, class_weight=None, criterion='gini',\n",
       "            max_depth=None, max_features='auto', max_leaf_nodes=None,\n",
       "            min_impurity_decrease=0.0, min_impurity_split=None,\n",
       "            min_samples_leaf=1, min_samples_split=2,\n",
       "            min_weight_fraction_leaf=0.0, n_estimators='warn', n_jobs=None,\n",
       "            oob_score=False, random_state=None, verbose=0,\n",
       "            warm_start=False),\n",
       "          fit_params=None, iid='warn', n_iter=100, n_jobs=-1,\n",
       "          param_distributions={'n_estimators': [200, 400, 600, 800, 1000, 1200, 1400, 1600, 1800, 2000], 'max_features': ['auto', 'sqrt'], 'max_depth': [10, 20, 30, 40, 50, 60, 70, 80, 90, 100, 110, None], 'min_samples_split': [2, 5, 10], 'min_samples_leaf': [1, 2, 4], 'bootstrap': [True, False]},\n",
       "          pre_dispatch='2*n_jobs', random_state=42, refit=True,\n",
       "          return_train_score='warn', scoring=None, verbose=2)"
      ]
     },
     "execution_count": 47,
     "metadata": {},
     "output_type": "execute_result"
    }
   ],
   "source": [
    "# Use the random grid to search for best hyperparameters\n",
    "# First create the base model to tune\n",
    "rf = RandomForestClassifier()\n",
    "# Random search of parameters, using 3 fold cross validation, limited due to computational issues\n",
    "rf_random = RandomizedSearchCV(estimator = rf, param_distributions = random_grid, n_iter = 100, cv = 3, verbose=2, n_jobs = -1)\n",
    "# Fit the random search model\n",
    "rf_random.fit(X_train, y_train)"
   ]
  },
  {
   "cell_type": "code",
   "execution_count": 48,
   "metadata": {},
   "outputs": [
    {
     "data": {
      "text/plain": [
       "{'n_estimators': 1400, 'min_samples_split': 2, 'min_samples_leaf': 1, 'max_features': 'auto', 'max_depth': 40, 'bootstrap': False}"
      ]
     },
     "execution_count": 48,
     "metadata": {},
     "output_type": "execute_result"
    }
   ],
   "source": [
    "rf_random.best_params_ #output: {'n_estimators': 1400, 'min_samples_split': 2, 'min_samples_leaf': 1, 'max_features': 'auto', 'max_depth': 40, 'bootstrap': False}"
   ]
  },
  {
   "cell_type": "code",
   "execution_count": 52,
   "metadata": {},
   "outputs": [],
   "source": [
    "# Import the model we are using\n",
    "from sklearn.ensemble import RandomForestClassifier\n",
    "# Instantiate model with 1000 decision trees\n",
    "rfhyper = RandomForestClassifier(n_estimators = 1400, min_samples_split = 2, min_samples_leaf = 1, max_features = 'auto', max_depth = 40, bootstrap = False)\n",
    "# Train the model on training data\n",
    "rfhyper.fit(X_train, y_train);"
   ]
  },
  {
   "cell_type": "code",
   "execution_count": 50,
   "metadata": {},
   "outputs": [
    {
     "data": {
      "text/plain": [
       "0.5264368626275241"
      ]
     },
     "execution_count": 50,
     "metadata": {},
     "output_type": "execute_result"
    }
   ],
   "source": [
    "from sklearn import metrics\n",
    "from sklearn.metrics import roc_curve, auc\n",
    "y_pred_class = rfhyper.predict(X_test)\n",
    "y_pred_prob = rfhyper.predict_proba(X_test)[:, 1]\n",
    "y_pred_prob\n",
    "metrics.roc_auc_score(y_test, y_pred_class)"
   ]
  },
  {
   "cell_type": "code",
   "execution_count": 58,
   "metadata": {},
   "outputs": [
    {
     "name": "stderr",
     "output_type": "stream",
     "text": [
      "C:\\Users\\natas\\Anaconda3\\lib\\site-packages\\sklearn\\model_selection\\_search.py:271: UserWarning: The total space of parameters 8 is smaller than n_iter=10. Running 8 iterations. For exhaustive searches, use GridSearchCV.\n",
      "  % (grid_size, self.n_iter, grid_size), UserWarning)\n",
      "C:\\Users\\natas\\Anaconda3\\lib\\site-packages\\sklearn\\linear_model\\logistic.py:433: FutureWarning: Default solver will be changed to 'lbfgs' in 0.22. Specify a solver to silence this warning.\n",
      "  FutureWarning)\n",
      "C:\\Users\\natas\\Anaconda3\\lib\\site-packages\\sklearn\\linear_model\\logistic.py:433: FutureWarning: Default solver will be changed to 'lbfgs' in 0.22. Specify a solver to silence this warning.\n",
      "  FutureWarning)\n",
      "C:\\Users\\natas\\Anaconda3\\lib\\site-packages\\sklearn\\linear_model\\logistic.py:433: FutureWarning: Default solver will be changed to 'lbfgs' in 0.22. Specify a solver to silence this warning.\n",
      "  FutureWarning)\n",
      "C:\\Users\\natas\\Anaconda3\\lib\\site-packages\\sklearn\\linear_model\\logistic.py:433: FutureWarning: Default solver will be changed to 'lbfgs' in 0.22. Specify a solver to silence this warning.\n",
      "  FutureWarning)\n",
      "C:\\Users\\natas\\Anaconda3\\lib\\site-packages\\sklearn\\linear_model\\logistic.py:433: FutureWarning: Default solver will be changed to 'lbfgs' in 0.22. Specify a solver to silence this warning.\n",
      "  FutureWarning)\n",
      "C:\\Users\\natas\\Anaconda3\\lib\\site-packages\\sklearn\\linear_model\\logistic.py:433: FutureWarning: Default solver will be changed to 'lbfgs' in 0.22. Specify a solver to silence this warning.\n",
      "  FutureWarning)\n",
      "C:\\Users\\natas\\Anaconda3\\lib\\site-packages\\sklearn\\linear_model\\logistic.py:433: FutureWarning: Default solver will be changed to 'lbfgs' in 0.22. Specify a solver to silence this warning.\n",
      "  FutureWarning)\n",
      "C:\\Users\\natas\\Anaconda3\\lib\\site-packages\\sklearn\\linear_model\\logistic.py:433: FutureWarning: Default solver will be changed to 'lbfgs' in 0.22. Specify a solver to silence this warning.\n",
      "  FutureWarning)\n",
      "C:\\Users\\natas\\Anaconda3\\lib\\site-packages\\sklearn\\linear_model\\logistic.py:433: FutureWarning: Default solver will be changed to 'lbfgs' in 0.22. Specify a solver to silence this warning.\n",
      "  FutureWarning)\n",
      "C:\\Users\\natas\\Anaconda3\\lib\\site-packages\\sklearn\\linear_model\\logistic.py:433: FutureWarning: Default solver will be changed to 'lbfgs' in 0.22. Specify a solver to silence this warning.\n",
      "  FutureWarning)\n",
      "C:\\Users\\natas\\Anaconda3\\lib\\site-packages\\sklearn\\linear_model\\logistic.py:433: FutureWarning: Default solver will be changed to 'lbfgs' in 0.22. Specify a solver to silence this warning.\n",
      "  FutureWarning)\n",
      "C:\\Users\\natas\\Anaconda3\\lib\\site-packages\\sklearn\\linear_model\\logistic.py:433: FutureWarning: Default solver will be changed to 'lbfgs' in 0.22. Specify a solver to silence this warning.\n",
      "  FutureWarning)\n",
      "C:\\Users\\natas\\Anaconda3\\lib\\site-packages\\sklearn\\linear_model\\logistic.py:433: FutureWarning: Default solver will be changed to 'lbfgs' in 0.22. Specify a solver to silence this warning.\n",
      "  FutureWarning)\n",
      "C:\\Users\\natas\\Anaconda3\\lib\\site-packages\\sklearn\\linear_model\\logistic.py:433: FutureWarning: Default solver will be changed to 'lbfgs' in 0.22. Specify a solver to silence this warning.\n",
      "  FutureWarning)\n",
      "C:\\Users\\natas\\Anaconda3\\lib\\site-packages\\sklearn\\linear_model\\logistic.py:433: FutureWarning: Default solver will be changed to 'lbfgs' in 0.22. Specify a solver to silence this warning.\n",
      "  FutureWarning)\n",
      "C:\\Users\\natas\\Anaconda3\\lib\\site-packages\\sklearn\\linear_model\\logistic.py:433: FutureWarning: Default solver will be changed to 'lbfgs' in 0.22. Specify a solver to silence this warning.\n",
      "  FutureWarning)\n",
      "C:\\Users\\natas\\Anaconda3\\lib\\site-packages\\sklearn\\linear_model\\logistic.py:433: FutureWarning: Default solver will be changed to 'lbfgs' in 0.22. Specify a solver to silence this warning.\n",
      "  FutureWarning)\n",
      "C:\\Users\\natas\\Anaconda3\\lib\\site-packages\\sklearn\\linear_model\\logistic.py:433: FutureWarning: Default solver will be changed to 'lbfgs' in 0.22. Specify a solver to silence this warning.\n",
      "  FutureWarning)\n",
      "C:\\Users\\natas\\Anaconda3\\lib\\site-packages\\sklearn\\linear_model\\logistic.py:433: FutureWarning: Default solver will be changed to 'lbfgs' in 0.22. Specify a solver to silence this warning.\n",
      "  FutureWarning)\n",
      "C:\\Users\\natas\\Anaconda3\\lib\\site-packages\\sklearn\\linear_model\\logistic.py:433: FutureWarning: Default solver will be changed to 'lbfgs' in 0.22. Specify a solver to silence this warning.\n",
      "  FutureWarning)\n",
      "C:\\Users\\natas\\Anaconda3\\lib\\site-packages\\sklearn\\linear_model\\logistic.py:433: FutureWarning: Default solver will be changed to 'lbfgs' in 0.22. Specify a solver to silence this warning.\n",
      "  FutureWarning)\n",
      "C:\\Users\\natas\\Anaconda3\\lib\\site-packages\\sklearn\\linear_model\\logistic.py:433: FutureWarning: Default solver will be changed to 'lbfgs' in 0.22. Specify a solver to silence this warning.\n",
      "  FutureWarning)\n",
      "C:\\Users\\natas\\Anaconda3\\lib\\site-packages\\sklearn\\linear_model\\logistic.py:433: FutureWarning: Default solver will be changed to 'lbfgs' in 0.22. Specify a solver to silence this warning.\n",
      "  FutureWarning)\n",
      "C:\\Users\\natas\\Anaconda3\\lib\\site-packages\\sklearn\\linear_model\\logistic.py:433: FutureWarning: Default solver will be changed to 'lbfgs' in 0.22. Specify a solver to silence this warning.\n",
      "  FutureWarning)\n",
      "C:\\Users\\natas\\Anaconda3\\lib\\site-packages\\sklearn\\linear_model\\logistic.py:433: FutureWarning: Default solver will be changed to 'lbfgs' in 0.22. Specify a solver to silence this warning.\n",
      "  FutureWarning)\n"
     ]
    },
    {
     "data": {
      "text/plain": [
       "0.5552642908600908"
      ]
     },
     "execution_count": 58,
     "metadata": {},
     "output_type": "execute_result"
    }
   ],
   "source": [
    "from sklearn.model_selection import RandomizedSearchCV\n",
    "from sklearn.linear_model import LogisticRegression\n",
    "param_grid = {'C': [ 0.00001, 0.0001, 0.001, 0.01,0.1, 1, 10, 100]}\n",
    "LRmodel = RandomizedSearchCV(LogisticRegression(), param_grid, cv=3, scoring='roc_auc')\n",
    "\n",
    "LRmodel.fit(X_train, y_train)\n",
    "\n",
    "from sklearn import metrics\n",
    "from sklearn.metrics import roc_curve, auc\n",
    "y_pred_class = LRmodel.predict(X_test)\n",
    "y_pred_prob = LRmodel.predict_proba(X_test)[:, 1]\n",
    "y_pred_prob\n",
    "metrics.roc_auc_score(y_test, y_pred_class)"
   ]
  },
  {
   "cell_type": "code",
   "execution_count": 31,
   "metadata": {},
   "outputs": [
    {
     "name": "stdout",
     "output_type": "stream",
     "text": [
      "Parameters currently in use:\n",
      "\n",
      "{'cv': 3,\n",
      " 'error_score': 'raise-deprecating',\n",
      " 'estimator': LogisticRegression(C=1.0, class_weight=None, dual=False, fit_intercept=True,\n",
      "          intercept_scaling=1, max_iter=100, multi_class='warn',\n",
      "          n_jobs=None, penalty='l2', random_state=None, solver='warn',\n",
      "          tol=0.0001, verbose=0, warm_start=False),\n",
      " 'estimator__C': 1.0,\n",
      " 'estimator__class_weight': None,\n",
      " 'estimator__dual': False,\n",
      " 'estimator__fit_intercept': True,\n",
      " 'estimator__intercept_scaling': 1,\n",
      " 'estimator__max_iter': 100,\n",
      " 'estimator__multi_class': 'warn',\n",
      " 'estimator__n_jobs': None,\n",
      " 'estimator__penalty': 'l2',\n",
      " 'estimator__random_state': None,\n",
      " 'estimator__solver': 'warn',\n",
      " 'estimator__tol': 0.0001,\n",
      " 'estimator__verbose': 0,\n",
      " 'estimator__warm_start': False,\n",
      " 'fit_params': None,\n",
      " 'iid': 'warn',\n",
      " 'n_jobs': None,\n",
      " 'param_grid': [{'classifier': [LogisticRegression(C=1.0, class_weight=None, dual=False, fit_intercept=True,\n",
      "          intercept_scaling=1, max_iter=100, multi_class='warn',\n",
      "          n_jobs=None, penalty='l2', random_state=None, solver='warn',\n",
      "          tol=0.0001, verbose=0, warm_start=False)],\n",
      "                 'classifier__C': array([1.00000000e-04, 2.63665090e-04, 6.95192796e-04, 1.83298071e-03,\n",
      "       4.83293024e-03, 1.27427499e-02, 3.35981829e-02, 8.85866790e-02,\n",
      "       2.33572147e-01, 6.15848211e-01, 1.62377674e+00, 4.28133240e+00,\n",
      "       1.12883789e+01, 2.97635144e+01, 7.84759970e+01, 2.06913808e+02,\n",
      "       5.45559478e+02, 1.43844989e+03, 3.79269019e+03, 1.00000000e+04]),\n",
      "                 'classifier__penalty': ['l1', 'l2'],\n",
      "                 'classifier__solver': ['liblinear']}],\n",
      " 'pre_dispatch': '2*n_jobs',\n",
      " 'refit': True,\n",
      " 'return_train_score': 'warn',\n",
      " 'scoring': None,\n",
      " 'verbose': 0}\n"
     ]
    }
   ],
   "source": [
    "from pprint import pprint\n",
    "print('Parameters currently in use:\\n')\n",
    "pprint(model.get_params())"
   ]
  },
  {
   "cell_type": "code",
   "execution_count": 62,
   "metadata": {},
   "outputs": [],
   "source": [
    "import xgboost as xgb"
   ]
  },
  {
   "cell_type": "code",
   "execution_count": null,
   "metadata": {},
   "outputs": [],
   "source": [
    "# split data into train and test sets\n",
    "seed = 7\n",
    "test_size = 0.2\n",
    "X_train, X_test, y_train, y_test = train_test_split(features, labels, test_size=test_size, random_state=seed)"
   ]
  },
  {
   "cell_type": "code",
   "execution_count": null,
   "metadata": {},
   "outputs": [],
   "source": [
    "xg_class = xgb.XGBClassifier(objective ='reg:logistic', colsample_bytree = 0.3, learning_rate = 0.1,\n",
    "                max_depth = 5, alpha = 10, n_estimators = 10)"
   ]
  },
  {
   "cell_type": "code",
   "execution_count": null,
   "metadata": {},
   "outputs": [],
   "source": [
    "#XGBoost base model\n",
    "from numpy import loadtxt\n",
    "from xgboost import XGBClassifier\n",
    "model = XGBClassifier()\n",
    "model.fit(X_train, y_train)"
   ]
  },
  {
   "cell_type": "code",
   "execution_count": null,
   "metadata": {},
   "outputs": [],
   "source": [
    "from sklearn import metrics\n",
    "from sklearn.metrics import roc_curve, auc\n",
    "y_pred_class = model.predict(X_test)\n",
    "y_pred_prob = model.predict_proba(X_test)[:, 1]\n",
    "y_pred_prob\n",
    "metrics.roc_auc_score(y_test, y_pred_class)"
   ]
  },
  {
   "cell_type": "code",
   "execution_count": 32,
   "metadata": {},
   "outputs": [],
   "source": [
    "#Hyperparameters for XGBoost\n",
    "random_grid ={\n",
    "        'min_child_weight': [1, 5, 10],\n",
    "        'gamma': [0.5, 1.5, 2, 5],\n",
    "        'subsample': [0.6, 0.8, 1.0],\n",
    "        'colsample_bytree': [0.6, 0.8, 1.0],\n",
    "        'max_depth': [3, 4, 5]\n",
    "        }"
   ]
  },
  {
   "cell_type": "code",
   "execution_count": 37,
   "metadata": {},
   "outputs": [],
   "source": [
    "xgb = XGBClassifier(learning_rate=0.02, n_estimators=600, objective='reg:logistic',\n",
    "                    silent=True, nthread=1)"
   ]
  },
  {
   "cell_type": "code",
   "execution_count": 40,
   "metadata": {},
   "outputs": [
    {
     "name": "stdout",
     "output_type": "stream",
     "text": [
      "Fitting 3 folds for each of 5 candidates, totalling 15 fits\n"
     ]
    },
    {
     "name": "stderr",
     "output_type": "stream",
     "text": [
      "[Parallel(n_jobs=4)]: Using backend LokyBackend with 4 concurrent workers.\n",
      "[Parallel(n_jobs=4)]: Done  15 out of  15 | elapsed:   44.6s finished\n"
     ]
    },
    {
     "data": {
      "text/plain": [
       "RandomizedSearchCV(cv=3, error_score='raise-deprecating',\n",
       "          estimator=XGBClassifier(base_score=0.5, booster='gbtree', colsample_bylevel=1,\n",
       "       colsample_bytree=1, gamma=0, learning_rate=0.02, max_delta_step=0,\n",
       "       max_depth=3, min_child_weight=1, missing=None, n_estimators=600,\n",
       "       n_jobs=1, nthread=1, objective='reg:logistic', random_state=0,\n",
       "       reg_alpha=0, reg_lambda=1, scale_pos_weight=1, seed=None,\n",
       "       silent=True, subsample=1),\n",
       "          fit_params=None, iid='warn', n_iter=5, n_jobs=4,\n",
       "          param_distributions={'min_child_weight': [1, 5, 10], 'gamma': [0.5, 1.5, 2, 5], 'subsample': [0.6, 0.8, 1.0], 'colsample_bytree': [0.6, 0.8, 1.0], 'max_depth': [3, 4, 5]},\n",
       "          pre_dispatch='2*n_jobs', random_state=1001, refit=True,\n",
       "          return_train_score='warn', scoring='roc_auc', verbose=3)"
      ]
     },
     "execution_count": 40,
     "metadata": {},
     "output_type": "execute_result"
    }
   ],
   "source": [
    "#Hyperparameter tuning for XGBoost\n",
    "from sklearn.model_selection import RandomizedSearchCV\n",
    "from numpy import loadtxt\n",
    "from xgboost import XGBClassifier\n",
    "\n",
    "random_search = RandomizedSearchCV(xgb, param_distributions=random_grid, n_iter=5, scoring='roc_auc', n_jobs=4, cv=3, verbose=3, random_state=1001 )\n",
    "random_search.fit(X_train, y_train)"
   ]
  },
  {
   "cell_type": "code",
   "execution_count": 42,
   "metadata": {},
   "outputs": [
    {
     "name": "stdout",
     "output_type": "stream",
     "text": [
      "\n",
      " All results:\n",
      "{'mean_fit_time': array([14.58235971,  7.70366001, 12.43311063,  9.84930277,  6.73854454]), 'std_fit_time': array([0.01738126, 0.42744374, 0.09868049, 0.49761489, 1.20684042]), 'mean_score_time': array([0.39162103, 0.17134237, 0.29159927, 0.22390485, 0.18224804]), 'std_score_time': array([0.02703627, 0.00069458, 0.0073639 , 0.00736373, 0.02655244]), 'param_subsample': masked_array(data=[0.6, 0.6, 0.6, 0.6, 0.6],\n",
      "             mask=[False, False, False, False, False],\n",
      "       fill_value='?',\n",
      "            dtype=object), 'param_min_child_weight': masked_array(data=[1, 1, 5, 10, 10],\n",
      "             mask=[False, False, False, False, False],\n",
      "       fill_value='?',\n",
      "            dtype=object), 'param_max_depth': masked_array(data=[5, 3, 5, 4, 4],\n",
      "             mask=[False, False, False, False, False],\n",
      "       fill_value='?',\n",
      "            dtype=object), 'param_gamma': masked_array(data=[1.5, 2, 0.5, 2, 0.5],\n",
      "             mask=[False, False, False, False, False],\n",
      "       fill_value='?',\n",
      "            dtype=object), 'param_colsample_bytree': masked_array(data=[1.0, 0.8, 0.8, 0.8, 0.6],\n",
      "             mask=[False, False, False, False, False],\n",
      "       fill_value='?',\n",
      "            dtype=object), 'params': [{'subsample': 0.6, 'min_child_weight': 1, 'max_depth': 5, 'gamma': 1.5, 'colsample_bytree': 1.0}, {'subsample': 0.6, 'min_child_weight': 1, 'max_depth': 3, 'gamma': 2, 'colsample_bytree': 0.8}, {'subsample': 0.6, 'min_child_weight': 5, 'max_depth': 5, 'gamma': 0.5, 'colsample_bytree': 0.8}, {'subsample': 0.6, 'min_child_weight': 10, 'max_depth': 4, 'gamma': 2, 'colsample_bytree': 0.8}, {'subsample': 0.6, 'min_child_weight': 10, 'max_depth': 4, 'gamma': 0.5, 'colsample_bytree': 0.6}], 'split0_test_score': array([0.60102399, 0.60307777, 0.59862153, 0.59967391, 0.5988899 ]), 'split1_test_score': array([0.62563578, 0.63061872, 0.62582314, 0.62986834, 0.63079839]), 'split2_test_score': array([0.61070311, 0.61863747, 0.61157502, 0.61476594, 0.61324212]), 'mean_test_score': array([0.61245358, 0.61744376, 0.61200573, 0.61476846, 0.61430917]), 'std_test_score': array([0.01012382, 0.01127535, 0.01110936, 0.01232702, 0.01304862]), 'rank_test_score': array([4, 1, 5, 2, 3]), 'split0_train_score': array([0.88547496, 0.74177105, 0.85016202, 0.77631271, 0.77504564]), 'split1_train_score': array([0.8887612 , 0.73938653, 0.85100862, 0.77057942, 0.77189689]), 'split2_train_score': array([0.88742578, 0.73946361, 0.84759158, 0.76906698, 0.77102006]), 'mean_train_score': array([0.88722065, 0.74020706, 0.84958741, 0.77198637, 0.7726542 ]), 'std_train_score': array([0.00134942, 0.00110636, 0.00145297, 0.00312088, 0.00172848])}\n",
      "\n",
      " Best estimator:\n",
      "XGBClassifier(base_score=0.5, booster='gbtree', colsample_bylevel=1,\n",
      "       colsample_bytree=0.8, gamma=2, learning_rate=0.02, max_delta_step=0,\n",
      "       max_depth=3, min_child_weight=1, missing=None, n_estimators=600,\n",
      "       n_jobs=1, nthread=1, objective='reg:logistic', random_state=0,\n",
      "       reg_alpha=0, reg_lambda=1, scale_pos_weight=1, seed=None,\n",
      "       silent=True, subsample=0.6)\n",
      "\n",
      " Best normalized gini score for 3-fold search with 5 parameter combinations:\n",
      "0.23488751258022766\n",
      "\n",
      " Best hyperparameters:\n",
      "{'subsample': 0.6, 'min_child_weight': 1, 'max_depth': 3, 'gamma': 2, 'colsample_bytree': 0.8}\n"
     ]
    },
    {
     "name": "stderr",
     "output_type": "stream",
     "text": [
      "C:\\Users\\natas\\Anaconda3\\lib\\site-packages\\sklearn\\utils\\deprecation.py:125: FutureWarning: You are accessing a training score ('split0_train_score'), which will not be available by default any more in 0.21. If you need training scores, please set return_train_score=True\n",
      "  warnings.warn(*warn_args, **warn_kwargs)\n",
      "C:\\Users\\natas\\Anaconda3\\lib\\site-packages\\sklearn\\utils\\deprecation.py:125: FutureWarning: You are accessing a training score ('split1_train_score'), which will not be available by default any more in 0.21. If you need training scores, please set return_train_score=True\n",
      "  warnings.warn(*warn_args, **warn_kwargs)\n",
      "C:\\Users\\natas\\Anaconda3\\lib\\site-packages\\sklearn\\utils\\deprecation.py:125: FutureWarning: You are accessing a training score ('split2_train_score'), which will not be available by default any more in 0.21. If you need training scores, please set return_train_score=True\n",
      "  warnings.warn(*warn_args, **warn_kwargs)\n",
      "C:\\Users\\natas\\Anaconda3\\lib\\site-packages\\sklearn\\utils\\deprecation.py:125: FutureWarning: You are accessing a training score ('mean_train_score'), which will not be available by default any more in 0.21. If you need training scores, please set return_train_score=True\n",
      "  warnings.warn(*warn_args, **warn_kwargs)\n",
      "C:\\Users\\natas\\Anaconda3\\lib\\site-packages\\sklearn\\utils\\deprecation.py:125: FutureWarning: You are accessing a training score ('std_train_score'), which will not be available by default any more in 0.21. If you need training scores, please set return_train_score=True\n",
      "  warnings.warn(*warn_args, **warn_kwargs)\n"
     ]
    }
   ],
   "source": [
    "print('\\n All results:')\n",
    "print(random_search.cv_results_)\n",
    "print('\\n Best estimator:')\n",
    "print(random_search.best_estimator_)\n",
    "print('\\n Best normalized gini score for %d-fold search with %d parameter combinations:' % (folds, param_comb))\n",
    "print(random_search.best_score_ * 2 - 1)\n",
    "print('\\n Best hyperparameters:')\n",
    "print(random_search.best_params_)"
   ]
  },
  {
   "cell_type": "code",
   "execution_count": 92,
   "metadata": {},
   "outputs": [
    {
     "data": {
      "text/plain": [
       "XGBClassifier(base_score=0.5, booster='gbtree', colsample_bylevel=1,\n",
       "       colsample_bytree=0.8, gamma=2, learning_rate=0.02, max_delta_step=0,\n",
       "       max_depth=3, min_child_weight=1, missing=None, n_estimators=600,\n",
       "       n_jobs=1, nthread=1, objective='reg:logistic', random_state=0,\n",
       "       reg_alpha=0, reg_lambda=1, scale_pos_weight=1, seed=None,\n",
       "       silent=True, subsample=0.6)"
      ]
     },
     "execution_count": 92,
     "metadata": {},
     "output_type": "execute_result"
    }
   ],
   "source": [
    "modeltuned = XGBClassifier(base_score=0.5, booster='gbtree', colsample_bylevel=1,\n",
    "       colsample_bytree=0.8, gamma=2, learning_rate=0.02, max_delta_step=0,\n",
    "       max_depth=3, min_child_weight=1, missing=None, n_estimators=600,\n",
    "       n_jobs=1, nthread=1, objective='reg:logistic', random_state=0,\n",
    "       reg_alpha=0, reg_lambda=1, scale_pos_weight=1, seed=None,\n",
    "       silent=True, subsample=0.6)\n",
    "modeltuned.fit(X_train, y_train)"
   ]
  },
  {
   "cell_type": "code",
   "execution_count": 93,
   "metadata": {},
   "outputs": [
    {
     "data": {
      "text/plain": [
       "0.5269597326714361"
      ]
     },
     "execution_count": 93,
     "metadata": {},
     "output_type": "execute_result"
    }
   ],
   "source": [
    "y_pred_class = modeltuned.predict(X_test)\n",
    "y_pred_prob = modeltuned.predict_proba(X_test)[:, 1]\n",
    "y_pred_prob\n",
    "metrics.roc_auc_score(y_test, y_pred_class)"
   ]
  },
  {
   "cell_type": "code",
   "execution_count": null,
   "metadata": {},
   "outputs": [],
   "source": []
  }
 ],
 "metadata": {
  "kernelspec": {
   "display_name": "Python 3",
   "language": "python",
   "name": "python3"
  },
  "language_info": {
   "codemirror_mode": {
    "name": "ipython",
    "version": 3
   },
   "file_extension": ".py",
   "mimetype": "text/x-python",
   "name": "python",
   "nbconvert_exporter": "python",
   "pygments_lexer": "ipython3",
   "version": "3.6.5"
  }
 },
 "nbformat": 4,
 "nbformat_minor": 2
}
